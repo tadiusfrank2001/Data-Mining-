{
 "cells": [
  {
   "cell_type": "markdown",
   "id": "5910bee4",
   "metadata": {},
   "source": [
    "# Overfitting"
   ]
  },
  {
   "cell_type": "markdown",
   "id": "4d1a9c40",
   "metadata": {},
   "source": [
    "## Goals\n",
    "In this lab, we will explore:\n",
    "- the situations where overfitting can occur.\n",
    "- some of the solutions to the problem of overfitting."
   ]
  },
  {
   "cell_type": "code",
   "execution_count": 1,
   "id": "5d51efed",
   "metadata": {},
   "outputs": [],
   "source": [
    "%matplotlib widget\n",
    "import matplotlib.pyplot as plt\n",
    "from ipywidgets import Output\n",
    "from plt_overfit import overfit_example, output\n",
    "plt.style.use('./deeplearning.mplstyle')"
   ]
  },
  {
   "cell_type": "markdown",
   "id": "02cd27c2",
   "metadata": {},
   "source": [
    "# Overfitting\n",
    "Run the cell below to generate a plot that will allow you to explore overfitting. There are further instructions below the cell."
   ]
  },
  {
   "cell_type": "code",
   "execution_count": null,
   "id": "5d0a566b",
   "metadata": {},
   "outputs": [],
   "source": [
    "plt.close(\"all\")\n",
    "display(output)\n",
    "ofit = overfit_example(False)"
   ]
  },
  {
   "cell_type": "markdown",
   "id": "eee1bcf0",
   "metadata": {},
   "source": [
    "<img src=\"./images/img01.png\" style=\"width:700px\"/>\n",
    "\n",
    "In the plot above you can:\n",
    "- switch between Regression and Categorization examples\n",
    "- add data\n",
    "- select the degree of the model\n",
    "- fit the model to the data  \n",
    "\n",
    "Here are some things you should try:\n",
    "- Fit the data with degree = 1; Note 'underfitting'.\n",
    "- Fit the data with degree = 6; Note 'overfitting'\n",
    "- tune degree to get the 'best fit'\n",
    "- add data:\n",
    "    - extreme examples can increase overfitting (assuming they are outliers).\n",
    "    - nominal examples can reduce overfitting\n",
    "- switch between `Regression` and `Categorical` to try both examples.\n",
    "\n",
    "To reset the plot, re-run the cell. Click slowly to allow the plot to update before receiving the next click.\n",
    "\n",
    "Notes on implementations:\n",
    "- the 'ideal' curves represent the generator model to which noise was added to achieve the data set\n",
    "- 'fit' does not use pure gradient descent to improve speed. These methods can be used on smaller data sets. "
   ]
  },
  {
   "cell_type": "markdown",
   "id": "007e9a29",
   "metadata": {},
   "source": [
    "## Congratulations!\n",
    "You have developed some intuition."
   ]
  }
 ],
 "metadata": {
  "kernelspec": {
   "display_name": "Python 3 (ipykernel)",
   "language": "python",
   "name": "python3"
  },
  "language_info": {
   "codemirror_mode": {
    "name": "ipython",
    "version": 3
   },
   "file_extension": ".py",
   "mimetype": "text/x-python",
   "name": "python",
   "nbconvert_exporter": "python",
   "pygments_lexer": "ipython3",
   "version": "3.9.2"
  }
 },
 "nbformat": 4,
 "nbformat_minor": 5
}
